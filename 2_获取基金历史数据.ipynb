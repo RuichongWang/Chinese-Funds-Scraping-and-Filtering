{
 "cells": [
  {
   "cell_type": "markdown",
   "source": [
    "## 获取基金历史数据\n",
    "\n",
    "Alex\n",
    "\n",
    "Created on: 08/07/2021"
   ],
   "metadata": {
    "papermill": {
     "duration": 0.004848,
     "end_time": "2021-05-19T01:48:35.438539",
     "exception": false,
     "start_time": "2021-05-19T01:48:35.433691",
     "status": "completed"
    },
    "tags": []
   }
  },
  {
   "cell_type": "code",
   "execution_count": 4,
   "source": [
    "import warnings\n",
    "\n",
    "warnings.filterwarnings('ignore')\n",
    "\n",
    "import datetime\n",
    "import threading\n",
    "\n",
    "import numpy as np\n",
    "import pandas as pd\n",
    "import requests\n",
    "from bs4 import BeautifulSoup\n",
    "\n",
    "today=datetime.datetime.now().date()    \n",
    "start_day='2020-01-01'\n",
    "\n",
    "funds_code=pd.read_csv('Data/基金代码名称对照表.csv')\n",
    "funds_code=funds_code[~funds_code['基金名称'].str.contains('债')&~funds_code['基金名称'].str.contains('货币')&~funds_code['基金名称'].str.contains('一年')].基金代码.values\n",
    "funds_code"
   ],
   "outputs": [
    {
     "output_type": "execute_result",
     "data": {
      "text/plain": [
       "array([     1,      6,      8, ..., 952009, 952035, 952099])"
      ]
     },
     "metadata": {},
     "execution_count": 4
    }
   ],
   "metadata": {}
  },
  {
   "cell_type": "code",
   "execution_count": 5,
   "source": [
    "def multi_threads(func,file_list,threads):\n",
    "    if __name__ == \"__main__\": \n",
    "        steps=int(len(file_list)/(threads))+1\n",
    "        num=int(len(file_list)/steps)+1\n",
    "\n",
    "        for k in range(num):\n",
    "            locals()['t'+str(k)]=threading.Thread(target=func, \n",
    "                                                args=([file_list[steps*k:min(steps*(k+1),len(file_list))]])) \n",
    "        for k in range(num):\n",
    "            locals()['t'+str(k)].start() \n",
    "        for k in range(num):\n",
    "            locals()['t'+str(k)].join() \n",
    "            \n",
    "            \n",
    "def get_history(funds_code):\n",
    "    for i,code in enumerate(funds_code):\n",
    "        for i in range(21):\n",
    "            url='http://quotes.money.163.com/fund/jzzs_%s_%s.html?start=%s&end=%s&sort=TDATE&order=desc'%(str(code).zfill(6),i,start_day,str(today))\n",
    "            try:\n",
    "                res = requests.get(url,timeout=3)\n",
    "            except:break\n",
    "            bs4=BeautifulSoup(res.text)\n",
    "            try:bs4=bs4.find('tbody').find_all('tr')\n",
    "            except:\n",
    "                print('%s Failed'%code)\n",
    "                break\n",
    "            if len(bs4)==0:break\n",
    "            try:\n",
    "                # bs4=[x for x in bs4]\n",
    "                dates=[x.find_all('td')[0].get_text() for x in bs4]\n",
    "                net=[x.find_all('td')[1].get_text() for x in bs4]\n",
    "                per_change=[x.find('span').get_text() for x in bs4]\n",
    "                cc=[code for x in range(len(dates))]\n",
    "            except:continue\n",
    "            funds_res.append((np.vstack((cc,dates,net,per_change)).T))\n"
   ],
   "outputs": [],
   "metadata": {}
  },
  {
   "cell_type": "code",
   "execution_count": 6,
   "source": [
    "%%time\n",
    "# 从网易财经获取基金历史数据\n",
    "funds_res=[]\n",
    "# multi_threads(get_history,funds_code,100) # 爬取全部基金历史数据，耗时较长\n",
    "multi_threads(get_history,funds_code[:100],100) # sample code，只爬取了前100个基金"
   ],
   "outputs": [
    {
     "output_type": "stream",
     "name": "stdout",
     "text": [
      "CPU times: user 46.3 s, sys: 5.23 s, total: 51.5 s\n",
      "Wall time: 56 s\n"
     ]
    }
   ],
   "metadata": {}
  },
  {
   "cell_type": "code",
   "execution_count": 7,
   "source": [
    "# clean data and output\n",
    "funds_res1=[x for x in funds_res if len(x)!=0]\n",
    "funds_res1=np.array(funds_res1)\n",
    "result=np.array((None,None,None,None,))\n",
    "for x in funds_res1:\n",
    "    result=np.vstack((result,x))\n",
    "\n",
    "funds_res1=np.array(funds_res1)\n",
    "funds_res1=[x[0] for x in funds_res1]\n",
    "funds_history_new=pd.DataFrame(result,columns=['基金代码','日期','净值','涨跌幅'])\n",
    "funds_history_new=funds_history_new.iloc[1:]\n",
    "funds_history_new['基金代码']=funds_history_new.基金代码.astype(int).astype(str).transform(lambda x:x.zfill(6))\n",
    "funds_history_new['涨跌幅']=funds_history_new.涨跌幅.transform(lambda x:x[:-1]).astype(float)\n",
    "funds_history_new['涨跌幅']/=100\n",
    "funds_history_new['涨跌幅']+=1\n",
    "\n",
    "display(funds_history_new)\n",
    "funds_history_new.to_csv('Data/funds_data.csv',index=False)\n"
   ],
   "outputs": [
    {
     "output_type": "display_data",
     "data": {
      "text/plain": [
       "         基金代码          日期      净值     涨跌幅\n",
       "1      000039  2021-08-06  4.3133  1.0091\n",
       "2      000039  2021-08-05  4.2742  1.0086\n",
       "3      000039  2021-08-04  4.2378  1.0604\n",
       "4      000039  2021-08-03  3.9966  0.9550\n",
       "5      000039  2021-08-02  4.1851  1.0153\n",
       "...       ...         ...     ...     ...\n",
       "37756  000342  2020-01-08  1.3670  0.9964\n",
       "37757  000342  2020-01-07  1.3720  1.0007\n",
       "37758  000342  2020-01-06  1.3710  1.0015\n",
       "37759  000342  2020-01-03  1.3690  1.0029\n",
       "37760  000342  2020-01-02  1.3650  1.0000\n",
       "\n",
       "[37760 rows x 4 columns]"
      ],
      "text/html": [
       "<div>\n",
       "<style scoped>\n",
       "    .dataframe tbody tr th:only-of-type {\n",
       "        vertical-align: middle;\n",
       "    }\n",
       "\n",
       "    .dataframe tbody tr th {\n",
       "        vertical-align: top;\n",
       "    }\n",
       "\n",
       "    .dataframe thead th {\n",
       "        text-align: right;\n",
       "    }\n",
       "</style>\n",
       "<table border=\"1\" class=\"dataframe\">\n",
       "  <thead>\n",
       "    <tr style=\"text-align: right;\">\n",
       "      <th></th>\n",
       "      <th>基金代码</th>\n",
       "      <th>日期</th>\n",
       "      <th>净值</th>\n",
       "      <th>涨跌幅</th>\n",
       "    </tr>\n",
       "  </thead>\n",
       "  <tbody>\n",
       "    <tr>\n",
       "      <th>1</th>\n",
       "      <td>000039</td>\n",
       "      <td>2021-08-06</td>\n",
       "      <td>4.3133</td>\n",
       "      <td>1.0091</td>\n",
       "    </tr>\n",
       "    <tr>\n",
       "      <th>2</th>\n",
       "      <td>000039</td>\n",
       "      <td>2021-08-05</td>\n",
       "      <td>4.2742</td>\n",
       "      <td>1.0086</td>\n",
       "    </tr>\n",
       "    <tr>\n",
       "      <th>3</th>\n",
       "      <td>000039</td>\n",
       "      <td>2021-08-04</td>\n",
       "      <td>4.2378</td>\n",
       "      <td>1.0604</td>\n",
       "    </tr>\n",
       "    <tr>\n",
       "      <th>4</th>\n",
       "      <td>000039</td>\n",
       "      <td>2021-08-03</td>\n",
       "      <td>3.9966</td>\n",
       "      <td>0.9550</td>\n",
       "    </tr>\n",
       "    <tr>\n",
       "      <th>5</th>\n",
       "      <td>000039</td>\n",
       "      <td>2021-08-02</td>\n",
       "      <td>4.1851</td>\n",
       "      <td>1.0153</td>\n",
       "    </tr>\n",
       "    <tr>\n",
       "      <th>...</th>\n",
       "      <td>...</td>\n",
       "      <td>...</td>\n",
       "      <td>...</td>\n",
       "      <td>...</td>\n",
       "    </tr>\n",
       "    <tr>\n",
       "      <th>37756</th>\n",
       "      <td>000342</td>\n",
       "      <td>2020-01-08</td>\n",
       "      <td>1.3670</td>\n",
       "      <td>0.9964</td>\n",
       "    </tr>\n",
       "    <tr>\n",
       "      <th>37757</th>\n",
       "      <td>000342</td>\n",
       "      <td>2020-01-07</td>\n",
       "      <td>1.3720</td>\n",
       "      <td>1.0007</td>\n",
       "    </tr>\n",
       "    <tr>\n",
       "      <th>37758</th>\n",
       "      <td>000342</td>\n",
       "      <td>2020-01-06</td>\n",
       "      <td>1.3710</td>\n",
       "      <td>1.0015</td>\n",
       "    </tr>\n",
       "    <tr>\n",
       "      <th>37759</th>\n",
       "      <td>000342</td>\n",
       "      <td>2020-01-03</td>\n",
       "      <td>1.3690</td>\n",
       "      <td>1.0029</td>\n",
       "    </tr>\n",
       "    <tr>\n",
       "      <th>37760</th>\n",
       "      <td>000342</td>\n",
       "      <td>2020-01-02</td>\n",
       "      <td>1.3650</td>\n",
       "      <td>1.0000</td>\n",
       "    </tr>\n",
       "  </tbody>\n",
       "</table>\n",
       "<p>37760 rows × 4 columns</p>\n",
       "</div>"
      ]
     },
     "metadata": {}
    }
   ],
   "metadata": {}
  }
 ],
 "metadata": {
  "interpreter": {
   "hash": "78c62bd594015071fc94ec09f8f0c8693d5df646d29fd961f83262230d581249"
  },
  "kernelspec": {
   "name": "python3",
   "display_name": "Python 3.7.3 64-bit ('base': conda)"
  },
  "language_info": {
   "codemirror_mode": {
    "name": "ipython",
    "version": 3
   },
   "file_extension": ".py",
   "mimetype": "text/x-python",
   "name": "python",
   "nbconvert_exporter": "python",
   "pygments_lexer": "ipython3",
   "version": "3.7.3"
  },
  "papermill": {
   "default_parameters": {},
   "duration": 8.998419,
   "end_time": "2021-05-19T01:48:38.046799",
   "environment_variables": {},
   "exception": null,
   "input_path": "__notebook__.ipynb",
   "output_path": "__notebook__.ipynb",
   "parameters": {},
   "start_time": "2021-05-19T01:48:29.048380",
   "version": "2.3.2"
  }
 },
 "nbformat": 4,
 "nbformat_minor": 5
}