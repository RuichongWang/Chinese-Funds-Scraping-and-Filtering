{
 "cells": [
  {
   "cell_type": "markdown",
   "source": [
    "## 基金代码名称对照表\n",
    "\n",
    "Alex\n",
    "\n",
    "Created on: 08/07/2021"
   ],
   "metadata": {
    "papermill": {
     "duration": 0.004848,
     "end_time": "2021-05-19T01:48:35.438539",
     "exception": false,
     "start_time": "2021-05-19T01:48:35.433691",
     "status": "completed"
    },
    "tags": []
   }
  },
  {
   "cell_type": "code",
   "execution_count": 1,
   "source": [
    "import json\n",
    "import time\n",
    "import pandas as pd\n",
    "import requests\n",
    "from bs4 import BeautifulSoup\n",
    "import time\n",
    "from selenium import webdriver\n",
    "import os \n",
    "import warnings\n",
    "\n",
    "warnings.filterwarnings('ignore')\n",
    "\n",
    "\n",
    "# 首先需要更改 Chrome_Driver_Path 为你的本地路径\n",
    "# 如果之前没有接触过Selenium可以参考下面这个链接\n",
    "# https://github.com/RuichongWang/Web-Scraping/blob/main/Tutorials/Selenium%20Tutorial%20-%20Auto%20Searching.md\n",
    "Chrome_Driver_Path='/Users/user/Downloads/网页下载/chromedriver' \n",
    "\n",
    "if not os.path.exists('Data'):\n",
    "    os.mkdir('Data')"
   ],
   "outputs": [],
   "metadata": {}
  },
  {
   "cell_type": "code",
   "execution_count": 2,
   "source": [
    "# 首先，去天天基金网下载全部公募基金主题代码对照表\n",
    "# 用于之后根据基金行业筛选\n",
    "url='http://fund.eastmoney.com/daogou/'\n",
    "driver = webdriver.Chrome(Chrome_Driver_Path)\n",
    "driver.get(url)\n",
    "driver.find_element_by_xpath('//*[@id=\"jjztfoldType\"]').click()\n",
    "res=BeautifulSoup(driver.page_source)\n",
    "driver.quit()\n",
    "\n",
    "cat_all=res.find_all('dd',attrs={\"id\":\"dd_tp\"})+res.find_all('dd',attrs={\"id\":\"zzjjafloat\"})\n",
    "cat_all=[x.find_all('a') for x in cat_all]\n",
    "cat_all=sum(cat_all,[])\n",
    "cat_all=[[x.get_text(),x.get('id')] for x in cat_all]\n",
    "cat_df=pd.DataFrame(cat_all,columns=['板块','后缀'])\n",
    "\n",
    "display(cat_df)\n",
    "cat_df.to_csv('Data/主题代码对照表.csv',index=False)"
   ],
   "outputs": [
    {
     "output_type": "display_data",
     "data": {
      "text/plain": [
       "       板块         后缀\n",
       "0    工程建设  tp_BK0425\n",
       "1    交运设备  tp_BK0429\n",
       "2    农牧饲渔  tp_BK0433\n",
       "3    煤炭采选  tp_BK0437\n",
       "4    食品饮料  tp_BK0438\n",
       "..    ...        ...\n",
       "105  网红直播  tp_BK0940\n",
       "106  无线充电  tp_BK0960\n",
       "107  航天概念  tp_BK0963\n",
       "108  生物识别  tp_BK0970\n",
       "109    不限   tp_t_def\n",
       "\n",
       "[110 rows x 2 columns]"
      ],
      "text/html": [
       "<div>\n",
       "<style scoped>\n",
       "    .dataframe tbody tr th:only-of-type {\n",
       "        vertical-align: middle;\n",
       "    }\n",
       "\n",
       "    .dataframe tbody tr th {\n",
       "        vertical-align: top;\n",
       "    }\n",
       "\n",
       "    .dataframe thead th {\n",
       "        text-align: right;\n",
       "    }\n",
       "</style>\n",
       "<table border=\"1\" class=\"dataframe\">\n",
       "  <thead>\n",
       "    <tr style=\"text-align: right;\">\n",
       "      <th></th>\n",
       "      <th>板块</th>\n",
       "      <th>后缀</th>\n",
       "    </tr>\n",
       "  </thead>\n",
       "  <tbody>\n",
       "    <tr>\n",
       "      <th>0</th>\n",
       "      <td>工程建设</td>\n",
       "      <td>tp_BK0425</td>\n",
       "    </tr>\n",
       "    <tr>\n",
       "      <th>1</th>\n",
       "      <td>交运设备</td>\n",
       "      <td>tp_BK0429</td>\n",
       "    </tr>\n",
       "    <tr>\n",
       "      <th>2</th>\n",
       "      <td>农牧饲渔</td>\n",
       "      <td>tp_BK0433</td>\n",
       "    </tr>\n",
       "    <tr>\n",
       "      <th>3</th>\n",
       "      <td>煤炭采选</td>\n",
       "      <td>tp_BK0437</td>\n",
       "    </tr>\n",
       "    <tr>\n",
       "      <th>4</th>\n",
       "      <td>食品饮料</td>\n",
       "      <td>tp_BK0438</td>\n",
       "    </tr>\n",
       "    <tr>\n",
       "      <th>...</th>\n",
       "      <td>...</td>\n",
       "      <td>...</td>\n",
       "    </tr>\n",
       "    <tr>\n",
       "      <th>105</th>\n",
       "      <td>网红直播</td>\n",
       "      <td>tp_BK0940</td>\n",
       "    </tr>\n",
       "    <tr>\n",
       "      <th>106</th>\n",
       "      <td>无线充电</td>\n",
       "      <td>tp_BK0960</td>\n",
       "    </tr>\n",
       "    <tr>\n",
       "      <th>107</th>\n",
       "      <td>航天概念</td>\n",
       "      <td>tp_BK0963</td>\n",
       "    </tr>\n",
       "    <tr>\n",
       "      <th>108</th>\n",
       "      <td>生物识别</td>\n",
       "      <td>tp_BK0970</td>\n",
       "    </tr>\n",
       "    <tr>\n",
       "      <th>109</th>\n",
       "      <td>不限</td>\n",
       "      <td>tp_t_def</td>\n",
       "    </tr>\n",
       "  </tbody>\n",
       "</table>\n",
       "<p>110 rows × 2 columns</p>\n",
       "</div>"
      ]
     },
     "metadata": {}
    }
   ],
   "metadata": {}
  }
 ],
 "metadata": {
  "interpreter": {
   "hash": "78c62bd594015071fc94ec09f8f0c8693d5df646d29fd961f83262230d581249"
  },
  "kernelspec": {
   "name": "python3",
   "display_name": "Python 3.7.3 64-bit ('base': conda)"
  },
  "language_info": {
   "codemirror_mode": {
    "name": "ipython",
    "version": 3
   },
   "file_extension": ".py",
   "mimetype": "text/x-python",
   "name": "python",
   "nbconvert_exporter": "python",
   "pygments_lexer": "ipython3",
   "version": "3.7.3"
  },
  "papermill": {
   "default_parameters": {},
   "duration": 8.998419,
   "end_time": "2021-05-19T01:48:38.046799",
   "environment_variables": {},
   "exception": null,
   "input_path": "__notebook__.ipynb",
   "output_path": "__notebook__.ipynb",
   "parameters": {},
   "start_time": "2021-05-19T01:48:29.048380",
   "version": "2.3.2"
  }
 },
 "nbformat": 4,
 "nbformat_minor": 5
}